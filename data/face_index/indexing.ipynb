{
 "cells": [
  {
   "cell_type": "code",
   "execution_count": 4,
   "metadata": {},
   "outputs": [],
   "source": [
    "import pathlib\n",
    "\n",
    "import numpy as np\n",
    "import pandas as pd\n",
    "import face_recognition\n",
    "import faiss\n",
    "import tqdm"
   ]
  },
  {
   "attachments": {},
   "cell_type": "markdown",
   "metadata": {},
   "source": [
    "### Get img files"
   ]
  },
  {
   "cell_type": "code",
   "execution_count": 3,
   "metadata": {},
   "outputs": [],
   "source": [
    "def read_file(path):\n",
    "    img_path = []\n",
    "    for file in pathlib.Path(path).iterdir():\n",
    "        if file.suffix == \".jpg\":\n",
    "            img_path.append(str(file))\n",
    "    return img_path"
   ]
  },
  {
   "cell_type": "code",
   "execution_count": null,
   "metadata": {},
   "outputs": [],
   "source": [
    "ROOTDATA = \"./images\"\n",
    "train_imgs = read_file(ROOTDATA)\n",
    "print(\"Total number of images: \", len(train_imgs))"
   ]
  },
  {
   "cell_type": "code",
   "execution_count": null,
   "metadata": {},
   "outputs": [],
   "source": [
    "df = pd.read_csv(\"../query_data/query.csv\")\n",
    "print(\"Total data of query: \", len(df))"
   ]
  },
  {
   "attachments": {},
   "cell_type": "markdown",
   "metadata": {},
   "source": [
    "### Get face and Encode img with face_recognition"
   ]
  },
  {
   "cell_type": "code",
   "execution_count": null,
   "metadata": {},
   "outputs": [],
   "source": [
    "faceEncode = []\n",
    "train_labels = []\n",
    "n_encoded = 0\n",
    "\n",
    "for i in tqdm(range(len(df))):\n",
    "    path = pathlib.Path(f\"{ROOTDATA}/{i}.jpg\")\n",
    "    if not path.exists():\n",
    "        # add dummy img\n",
    "        face_encode = np.zeros((128,))\n",
    "    else:\n",
    "        # read img\n",
    "        img = face_recognition.load_image_file(path)\n",
    "        # detect face\n",
    "        face_location = face_recognition.face_locations(img)\n",
    "        if len(face_location) > 1:\n",
    "            print(path)\n",
    "            # add dummy img\n",
    "            face_encode = np.zeros((128,))\n",
    "        if len(face_location) > 0:\n",
    "            #crop face\n",
    "            face_encode = face_recognition.face_encodings(img, face_location)[0]\n",
    "            n_encoded += 1\n",
    "\n",
    "    faceEncode.append(face_encode)\n",
    "    train_labels.append(i)\n",
    "\n",
    "print(\"Number of images that could be encoded: \", n_encoded)"
   ]
  },
  {
   "cell_type": "code",
   "execution_count": null,
   "metadata": {},
   "outputs": [],
   "source": [
    "# convert encoeded vector to np.ndarray\n",
    "faceEncode = np.array(faceEncode,dtype=np.float32)\n",
    "print(\"shape of faceEncode: \", faceEncode.shape)"
   ]
  },
  {
   "cell_type": "code",
   "execution_count": null,
   "metadata": {},
   "outputs": [],
   "source": [
    "# get img labels\n",
    "train_labels = np.array(train_labels)\n",
    "print(\"labels: \", train_labels[:10])"
   ]
  },
  {
   "cell_type": "code",
   "execution_count": null,
   "metadata": {},
   "outputs": [],
   "source": [
    "import numpy as np\n",
    "\n",
    "np.save(\"./labels.npy\", train_labels)\n",
    "np.save(\"./face_encoded.npy\", faceEncode) "
   ]
  },
  {
   "attachments": {},
   "cell_type": "markdown",
   "metadata": {},
   "source": [
    "###  Create index with faiss"
   ]
  },
  {
   "cell_type": "code",
   "execution_count": 2,
   "metadata": {},
   "outputs": [],
   "source": [
    "import numpy as np\n",
    "\n",
    "train_labels = np.load(\"./labels.npy\")\n",
    "faceEncode = np.load(\"./face_encoded.npy\")"
   ]
  },
  {
   "cell_type": "code",
   "execution_count": 5,
   "metadata": {},
   "outputs": [],
   "source": [
    "# create index with faiss\n",
    "face_index = faiss.IndexFlatL2(128)\n",
    "# add vector\n",
    "face_index.add(faceEncode)\n",
    "\n",
    "#save index\n",
    "faiss.write_index(face_index,'./face_index.bin')"
   ]
  },
  {
   "cell_type": "code",
   "execution_count": null,
   "metadata": {},
   "outputs": [],
   "source": []
  }
 ],
 "metadata": {
  "kernelspec": {
   "display_name": ".venv",
   "language": "python",
   "name": "python3"
  },
  "language_info": {
   "codemirror_mode": {
    "name": "ipython",
    "version": 3
   },
   "file_extension": ".py",
   "mimetype": "text/x-python",
   "name": "python",
   "nbconvert_exporter": "python",
   "pygments_lexer": "ipython3",
   "version": "3.9.12"
  },
  "orig_nbformat": 4
 },
 "nbformat": 4,
 "nbformat_minor": 2
}
